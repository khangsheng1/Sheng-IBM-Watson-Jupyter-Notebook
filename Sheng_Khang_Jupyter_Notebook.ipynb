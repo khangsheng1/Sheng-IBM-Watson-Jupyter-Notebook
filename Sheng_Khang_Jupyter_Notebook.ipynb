{
 "cells": [
  {
   "cell_type": "markdown",
   "metadata": {},
   "source": [
    "<center>\n",
    "    <img src=\"https://cf-courses-data.s3.us.cloud-object-storage.appdomain.cloud/IBMDeveloperSkillsNetwork-DS0105EN-SkillsNetwork/labs/Module2/images/SN_web_lightmode.png\" width=\"300\" alt=\"cognitiveclass.ai logo\">\n",
    "</center>\n"
   ]
  },
  {
   "cell_type": "markdown",
   "metadata": {},
   "source": [
    "#### Add your code below following the instructions given in the course\n"
   ]
  },
  {
   "cell_type": "markdown",
   "metadata": {},
   "source": [
    "<h1>My Jupyter Notebook on IBM Watson Studio</h1>"
   ]
  },
  {
   "cell_type": "markdown",
   "metadata": {},
   "source": [
    "**Sheng Khang**\n",
    "\n",
    "My desired occupation is to be a Data Scientist"
   ]
  },
  {
   "cell_type": "markdown",
   "metadata": {},
   "source": [
    "*I am intrested in data science becasuse of the possibility it has in every and all fields of work. I have a strong analytical mind and want the opportunity to us it to aid in healthcare data analytics.*"
   ]
  },
  {
   "cell_type": "markdown",
   "metadata": {},
   "source": [
    "<h3>In cell 5, variables x and y are defined, then added together to find variable z. This variable z is then returned to the user.</h3>"
   ]
  },
  {
   "cell_type": "code",
   "execution_count": 1,
   "metadata": {},
   "outputs": [
    {
     "name": "stdout",
     "output_type": "stream",
     "text": [
      "8\n"
     ]
    }
   ],
   "source": [
    "x=3\n",
    "\n",
    "y=5\n",
    "\n",
    "z=x+y\n",
    "\n",
    "print(z)"
   ]
  },
  {
   "cell_type": "markdown",
   "metadata": {},
   "source": [
    "<p><a href=\"https://cf-courses-data.s3.us.cloud-object-storage.appdomain.cloud/IBMDeveloperSkillsNetwork-DS0105EN-SkillsNetwork/labs/FinalModule_Coursera/Final_Instruction_toolforDS.md.html?origin=www.coursera.org\">Link to this assignment's instructions</a></p>\n",
    "\n",
    "<p>\n",
    "<ul>\n",
    "    <li>\n",
    "        Football Teams\n",
    "        <ul>\n",
    "            <li>Kansas City Chiefs</li>\n",
    "            <li>Minnesota Vikings</li>\n",
    "            <li>Philadelphia Eagles</li>\n",
    "        </ul>\n",
    "    </li>\n",
    "</ul>\n",
    "</p>\n",
    "\n",
    "<p>\n",
    "<table>\n",
    "  <tr>\n",
    "    <th>Country</th>\n",
    "    <th>Population</th>\n",
    "    <th>Largest Export</th>\n",
    "  </tr>\n",
    "  <tr>\n",
    "    <td>USA</td>\n",
    "    <td>At least 3</td>\n",
    "    <td>Guns?</td>\n",
    "  </tr>\n",
    "  <tr>\n",
    "    <td>UK</td>\n",
    "    <td>At least 2, but less than the USA</td>\n",
    "    <td>Scones?</td>\n",
    "  </tr>\n",
    "</table>\n",
    "</p>"
   ]
  }
 ],
 "metadata": {
  "kernelspec": {
   "display_name": "Python",
   "language": "python",
   "name": "conda-env-python-py"
  },
  "language_info": {
   "codemirror_mode": {
    "name": "ipython",
    "version": 3
   },
   "file_extension": ".py",
   "mimetype": "text/x-python",
   "name": "python",
   "nbconvert_exporter": "python",
   "pygments_lexer": "ipython3",
   "version": "3.7.12"
  }
 },
 "nbformat": 4,
 "nbformat_minor": 4
}
